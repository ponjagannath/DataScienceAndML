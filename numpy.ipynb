{
  "nbformat": 4,
  "nbformat_minor": 0,
  "metadata": {
    "colab": {
      "name": "numpy.ipynb",
      "provenance": [],
      "authorship_tag": "ABX9TyOEUIBtJ1j4FxiLCbvJDMDD",
      "include_colab_link": true
    },
    "kernelspec": {
      "name": "python3",
      "display_name": "Python 3"
    },
    "language_info": {
      "name": "python"
    }
  },
  "cells": [
    {
      "cell_type": "markdown",
      "metadata": {
        "id": "view-in-github",
        "colab_type": "text"
      },
      "source": [
        "<a href=\"https://colab.research.google.com/github/ponjagannath/DataScienceAndML/blob/master/numpy.ipynb\" target=\"_parent\"><img src=\"https://colab.research.google.com/assets/colab-badge.svg\" alt=\"Open In Colab\"/></a>"
      ]
    },
    {
      "cell_type": "markdown",
      "metadata": {
        "id": "phK-eopUC1Se"
      },
      "source": [
        "# **numpy one dimensional array**"
      ]
    },
    {
      "cell_type": "code",
      "metadata": {
        "colab": {
          "base_uri": "https://localhost:8080/"
        },
        "id": "ZRwsd4KZ84ie",
        "outputId": "acb2ee70-1350-4a9e-cf3f-16d440bc9874"
      },
      "source": [
        "my_list = [1,2,3,4,5]\n",
        "import numpy as np\n",
        "np.array(my_list)"
      ],
      "execution_count": 3,
      "outputs": [
        {
          "output_type": "execute_result",
          "data": {
            "text/plain": [
              "array([1, 2, 3, 4, 5])"
            ]
          },
          "metadata": {
            "tags": []
          },
          "execution_count": 3
        }
      ]
    },
    {
      "cell_type": "markdown",
      "metadata": {
        "id": "t-gOddq6C-G-"
      },
      "source": [
        "# **numpy two dimensional array** "
      ]
    },
    {
      "cell_type": "code",
      "metadata": {
        "colab": {
          "base_uri": "https://localhost:8080/"
        },
        "id": "Q3vHa_2bBxrQ",
        "outputId": "93d33bea-175e-42f0-feb8-98200834cb13"
      },
      "source": [
        "my_mat = [[1,2,3],\n",
        "          [4,5,6],\n",
        "          [7,8,9]]\n",
        "np.array(my_mat)"
      ],
      "execution_count": null,
      "outputs": [
        {
          "output_type": "execute_result",
          "data": {
            "text/plain": [
              "array([[1, 2, 3],\n",
              "       [4, 5, 6],\n",
              "       [7, 8, 9]])"
            ]
          },
          "metadata": {
            "tags": []
          },
          "execution_count": 3
        }
      ]
    },
    {
      "cell_type": "markdown",
      "metadata": {
        "id": "dzlZrGK_EuQX"
      },
      "source": [
        "# ***arange, zeros, ones- to generate numbers***"
      ]
    },
    {
      "cell_type": "code",
      "metadata": {
        "colab": {
          "base_uri": "https://localhost:8080/"
        },
        "id": "2yzEzOjfEo0P",
        "outputId": "b10d229c-cd51-4035-c70b-07eca5e3b010"
      },
      "source": [
        "np.arange(1,10)"
      ],
      "execution_count": null,
      "outputs": [
        {
          "output_type": "execute_result",
          "data": {
            "text/plain": [
              "array([1, 2, 3, 4, 5, 6, 7, 8, 9])"
            ]
          },
          "metadata": {
            "tags": []
          },
          "execution_count": 6
        }
      ]
    },
    {
      "cell_type": "code",
      "metadata": {
        "colab": {
          "base_uri": "https://localhost:8080/"
        },
        "id": "LEM5SgDgFWE-",
        "outputId": "06521aa5-a30e-4246-8f24-a42b9ada438e"
      },
      "source": [
        "np.arange(1,10,2)"
      ],
      "execution_count": null,
      "outputs": [
        {
          "output_type": "execute_result",
          "data": {
            "text/plain": [
              "array([1, 3, 5, 7, 9])"
            ]
          },
          "metadata": {
            "tags": []
          },
          "execution_count": 7
        }
      ]
    },
    {
      "cell_type": "code",
      "metadata": {
        "colab": {
          "base_uri": "https://localhost:8080/"
        },
        "id": "6fPdFy4mFZbH",
        "outputId": "4073af3d-2566-4ee1-f789-8c6e03fb952c"
      },
      "source": [
        "np.zeros(5)"
      ],
      "execution_count": null,
      "outputs": [
        {
          "output_type": "execute_result",
          "data": {
            "text/plain": [
              "array([0., 0., 0., 0., 0.])"
            ]
          },
          "metadata": {
            "tags": []
          },
          "execution_count": 8
        }
      ]
    },
    {
      "cell_type": "code",
      "metadata": {
        "colab": {
          "base_uri": "https://localhost:8080/"
        },
        "id": "YjaTPIAHLOZh",
        "outputId": "bd5cf9be-4fdd-44af-ef9b-a7aba83944a9"
      },
      "source": [
        "np.zeros((5,10))"
      ],
      "execution_count": null,
      "outputs": [
        {
          "output_type": "execute_result",
          "data": {
            "text/plain": [
              "array([[0., 0., 0., 0., 0., 0., 0., 0., 0., 0.],\n",
              "       [0., 0., 0., 0., 0., 0., 0., 0., 0., 0.],\n",
              "       [0., 0., 0., 0., 0., 0., 0., 0., 0., 0.],\n",
              "       [0., 0., 0., 0., 0., 0., 0., 0., 0., 0.],\n",
              "       [0., 0., 0., 0., 0., 0., 0., 0., 0., 0.]])"
            ]
          },
          "metadata": {
            "tags": []
          },
          "execution_count": 10
        }
      ]
    },
    {
      "cell_type": "code",
      "metadata": {
        "colab": {
          "base_uri": "https://localhost:8080/"
        },
        "id": "yneM573JLn6v",
        "outputId": "6e9c7018-9b75-4e5d-8e42-36bcdf0bd4ed"
      },
      "source": [
        "np.ones(10)"
      ],
      "execution_count": null,
      "outputs": [
        {
          "output_type": "execute_result",
          "data": {
            "text/plain": [
              "array([1., 1., 1., 1., 1., 1., 1., 1., 1., 1.])"
            ]
          },
          "metadata": {
            "tags": []
          },
          "execution_count": 11
        }
      ]
    },
    {
      "cell_type": "code",
      "metadata": {
        "colab": {
          "base_uri": "https://localhost:8080/"
        },
        "id": "bKNgBkf1LwEH",
        "outputId": "a43fbd83-b667-455d-f702-80cf17461e6a"
      },
      "source": [
        "np.ones((3,4))"
      ],
      "execution_count": null,
      "outputs": [
        {
          "output_type": "execute_result",
          "data": {
            "text/plain": [
              "array([[1., 1., 1., 1.],\n",
              "       [1., 1., 1., 1.],\n",
              "       [1., 1., 1., 1.]])"
            ]
          },
          "metadata": {
            "tags": []
          },
          "execution_count": 12
        }
      ]
    },
    {
      "cell_type": "markdown",
      "metadata": {
        "id": "Hd0RfIItMbzQ"
      },
      "source": [
        "# **linspace**"
      ]
    },
    {
      "cell_type": "code",
      "metadata": {
        "colab": {
          "base_uri": "https://localhost:8080/"
        },
        "id": "8_dEYHrIMgIg",
        "outputId": "9a3e3785-41ef-4cd7-c8af-e2f8ea026bf8"
      },
      "source": [
        "#generates 100 elements between 1 to 5\n",
        "np.linspace(1,5,100)"
      ],
      "execution_count": null,
      "outputs": [
        {
          "output_type": "execute_result",
          "data": {
            "text/plain": [
              "array([1.        , 1.04040404, 1.08080808, 1.12121212, 1.16161616,\n",
              "       1.2020202 , 1.24242424, 1.28282828, 1.32323232, 1.36363636,\n",
              "       1.4040404 , 1.44444444, 1.48484848, 1.52525253, 1.56565657,\n",
              "       1.60606061, 1.64646465, 1.68686869, 1.72727273, 1.76767677,\n",
              "       1.80808081, 1.84848485, 1.88888889, 1.92929293, 1.96969697,\n",
              "       2.01010101, 2.05050505, 2.09090909, 2.13131313, 2.17171717,\n",
              "       2.21212121, 2.25252525, 2.29292929, 2.33333333, 2.37373737,\n",
              "       2.41414141, 2.45454545, 2.49494949, 2.53535354, 2.57575758,\n",
              "       2.61616162, 2.65656566, 2.6969697 , 2.73737374, 2.77777778,\n",
              "       2.81818182, 2.85858586, 2.8989899 , 2.93939394, 2.97979798,\n",
              "       3.02020202, 3.06060606, 3.1010101 , 3.14141414, 3.18181818,\n",
              "       3.22222222, 3.26262626, 3.3030303 , 3.34343434, 3.38383838,\n",
              "       3.42424242, 3.46464646, 3.50505051, 3.54545455, 3.58585859,\n",
              "       3.62626263, 3.66666667, 3.70707071, 3.74747475, 3.78787879,\n",
              "       3.82828283, 3.86868687, 3.90909091, 3.94949495, 3.98989899,\n",
              "       4.03030303, 4.07070707, 4.11111111, 4.15151515, 4.19191919,\n",
              "       4.23232323, 4.27272727, 4.31313131, 4.35353535, 4.39393939,\n",
              "       4.43434343, 4.47474747, 4.51515152, 4.55555556, 4.5959596 ,\n",
              "       4.63636364, 4.67676768, 4.71717172, 4.75757576, 4.7979798 ,\n",
              "       4.83838384, 4.87878788, 4.91919192, 4.95959596, 5.        ])"
            ]
          },
          "metadata": {
            "tags": []
          },
          "execution_count": 13
        }
      ]
    },
    {
      "cell_type": "markdown",
      "metadata": {
        "id": "fRLDr59cVaMY"
      },
      "source": [
        "# **Identity matrix**"
      ]
    },
    {
      "cell_type": "code",
      "metadata": {
        "colab": {
          "base_uri": "https://localhost:8080/"
        },
        "id": "Xmy1AL5jVISh",
        "outputId": "f56d0d7b-497a-4096-f588-7794c24ca27e"
      },
      "source": [
        "np.eye(5)"
      ],
      "execution_count": null,
      "outputs": [
        {
          "output_type": "execute_result",
          "data": {
            "text/plain": [
              "array([[1., 0., 0., 0., 0.],\n",
              "       [0., 1., 0., 0., 0.],\n",
              "       [0., 0., 1., 0., 0.],\n",
              "       [0., 0., 0., 1., 0.],\n",
              "       [0., 0., 0., 0., 1.]])"
            ]
          },
          "metadata": {
            "tags": []
          },
          "execution_count": 14
        }
      ]
    },
    {
      "cell_type": "markdown",
      "metadata": {
        "id": "TlJ4I3yyqqz5"
      },
      "source": [
        "# **Random number**"
      ]
    },
    {
      "cell_type": "code",
      "metadata": {
        "colab": {
          "base_uri": "https://localhost:8080/"
        },
        "id": "B75aAa5Mqu6p",
        "outputId": "24e94aa2-7182-4447-9a42-ce4a37161efe"
      },
      "source": [
        "np.random.rand(5)"
      ],
      "execution_count": 4,
      "outputs": [
        {
          "output_type": "execute_result",
          "data": {
            "text/plain": [
              "array([0.52154234, 0.45866616, 0.13478653, 0.99052761, 0.62285612])"
            ]
          },
          "metadata": {
            "tags": []
          },
          "execution_count": 4
        }
      ]
    },
    {
      "cell_type": "code",
      "metadata": {
        "colab": {
          "base_uri": "https://localhost:8080/"
        },
        "id": "oD6sGGl7rLfY",
        "outputId": "6295b6c8-e4d0-4081-ee7c-9eb04832246d"
      },
      "source": [
        "np.random.randn(5)"
      ],
      "execution_count": 5,
      "outputs": [
        {
          "output_type": "execute_result",
          "data": {
            "text/plain": [
              "array([ 2.09834959, -1.01168909,  0.74225852,  1.07508976, -1.06989458])"
            ]
          },
          "metadata": {
            "tags": []
          },
          "execution_count": 5
        }
      ]
    },
    {
      "cell_type": "code",
      "metadata": {
        "colab": {
          "base_uri": "https://localhost:8080/"
        },
        "id": "x5clONo7rYK7",
        "outputId": "ac1c76a2-f241-4a0b-fb36-10ce6047c779"
      },
      "source": [
        "np.random.randn(4,4)"
      ],
      "execution_count": 6,
      "outputs": [
        {
          "output_type": "execute_result",
          "data": {
            "text/plain": [
              "array([[ 0.4987824 ,  1.9232836 ,  0.27327712,  1.84956093],\n",
              "       [ 1.30940305,  0.90481381,  0.99210739, -1.61004833],\n",
              "       [ 0.46528767, -0.17219381, -1.78996478,  0.63951799],\n",
              "       [-0.43509184, -0.34861442, -0.52631557, -0.59050219]])"
            ]
          },
          "metadata": {
            "tags": []
          },
          "execution_count": 6
        }
      ]
    },
    {
      "cell_type": "code",
      "metadata": {
        "colab": {
          "base_uri": "https://localhost:8080/"
        },
        "id": "mdfwQqyVrkdo",
        "outputId": "cda15b03-7f7b-4781-a75b-7aa85afd2334"
      },
      "source": [
        "arr = np.random.randint(10,100,20)\n",
        "arr"
      ],
      "execution_count": 11,
      "outputs": [
        {
          "output_type": "execute_result",
          "data": {
            "text/plain": [
              "array([12, 45, 54, 23, 70, 96, 15, 77, 67, 50, 26, 21, 42, 82, 19, 96, 74,\n",
              "       47, 95, 85])"
            ]
          },
          "metadata": {
            "tags": []
          },
          "execution_count": 11
        }
      ]
    },
    {
      "cell_type": "markdown",
      "metadata": {
        "id": "AItRzrZIsehR"
      },
      "source": [
        "# **Reshape**"
      ]
    },
    {
      "cell_type": "code",
      "metadata": {
        "colab": {
          "base_uri": "https://localhost:8080/"
        },
        "id": "bnu8j6ldsIAK",
        "outputId": "56d671ef-bd5f-498d-a01d-c1d9a0c3f468"
      },
      "source": [
        "arr.reshape(4,5)"
      ],
      "execution_count": 12,
      "outputs": [
        {
          "output_type": "execute_result",
          "data": {
            "text/plain": [
              "array([[12, 45, 54, 23, 70],\n",
              "       [96, 15, 77, 67, 50],\n",
              "       [26, 21, 42, 82, 19],\n",
              "       [96, 74, 47, 95, 85]])"
            ]
          },
          "metadata": {
            "tags": []
          },
          "execution_count": 12
        }
      ]
    },
    {
      "cell_type": "markdown",
      "metadata": {
        "id": "z8AM9xqwtCNP"
      },
      "source": [
        "# **Min, Max**"
      ]
    },
    {
      "cell_type": "code",
      "metadata": {
        "colab": {
          "base_uri": "https://localhost:8080/"
        },
        "id": "Z86axa4Hs7On",
        "outputId": "b00a2764-757f-46cc-e9f0-0dc44169ac80"
      },
      "source": [
        "arr.max()"
      ],
      "execution_count": 14,
      "outputs": [
        {
          "output_type": "execute_result",
          "data": {
            "text/plain": [
              "96"
            ]
          },
          "metadata": {
            "tags": []
          },
          "execution_count": 14
        }
      ]
    },
    {
      "cell_type": "code",
      "metadata": {
        "colab": {
          "base_uri": "https://localhost:8080/"
        },
        "id": "y_05un2as_t3",
        "outputId": "d35965c4-f0ab-41d2-92ea-261ba9a18807"
      },
      "source": [
        "arr.min()"
      ],
      "execution_count": 15,
      "outputs": [
        {
          "output_type": "execute_result",
          "data": {
            "text/plain": [
              "12"
            ]
          },
          "metadata": {
            "tags": []
          },
          "execution_count": 15
        }
      ]
    },
    {
      "cell_type": "code",
      "metadata": {
        "colab": {
          "base_uri": "https://localhost:8080/"
        },
        "id": "6bADn6w-tPBo",
        "outputId": "a2031a47-b21d-4b49-d5ab-080667df53b0"
      },
      "source": [
        "#index location of the max value\n",
        "arr.argmax()"
      ],
      "execution_count": 16,
      "outputs": [
        {
          "output_type": "execute_result",
          "data": {
            "text/plain": [
              "5"
            ]
          },
          "metadata": {
            "tags": []
          },
          "execution_count": 16
        }
      ]
    },
    {
      "cell_type": "code",
      "metadata": {
        "colab": {
          "base_uri": "https://localhost:8080/"
        },
        "id": "QkbnIBLKtWmJ",
        "outputId": "8f5dd7d1-471c-40e0-fea8-51dc05bbb7cf"
      },
      "source": [
        "#index location of the min value\n",
        "arr.argmin()"
      ],
      "execution_count": 17,
      "outputs": [
        {
          "output_type": "execute_result",
          "data": {
            "text/plain": [
              "0"
            ]
          },
          "metadata": {
            "tags": []
          },
          "execution_count": 17
        }
      ]
    },
    {
      "cell_type": "markdown",
      "metadata": {
        "id": "XE8RdlqtuAHW"
      },
      "source": [
        "# **shape of the array**"
      ]
    },
    {
      "cell_type": "code",
      "metadata": {
        "colab": {
          "base_uri": "https://localhost:8080/"
        },
        "id": "uILQpr6ztdt7",
        "outputId": "7cde4bab-2ef5-43ef-ad59-b322993ef296"
      },
      "source": [
        "arr.shape"
      ],
      "execution_count": 19,
      "outputs": [
        {
          "output_type": "execute_result",
          "data": {
            "text/plain": [
              "(20,)"
            ]
          },
          "metadata": {
            "tags": []
          },
          "execution_count": 19
        }
      ]
    },
    {
      "cell_type": "markdown",
      "metadata": {
        "id": "LQ2iEnOauKm4"
      },
      "source": [
        "# **data type of the array**"
      ]
    },
    {
      "cell_type": "code",
      "metadata": {
        "colab": {
          "base_uri": "https://localhost:8080/"
        },
        "id": "KeR__4WtuNmg",
        "outputId": "f7d6876e-1eed-4cda-ad79-126a441cb384"
      },
      "source": [
        "arr.dtype"
      ],
      "execution_count": 20,
      "outputs": [
        {
          "output_type": "execute_result",
          "data": {
            "text/plain": [
              "dtype('int64')"
            ]
          },
          "metadata": {
            "tags": []
          },
          "execution_count": 20
        }
      ]
    }
  ]
}